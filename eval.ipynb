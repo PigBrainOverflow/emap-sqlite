{
 "cells": [
  {
   "cell_type": "code",
   "execution_count": null,
   "id": "95c91fc0",
   "metadata": {},
   "outputs": [],
   "source": [
    "import emap\n",
    "import emap.rewrites as rewrites\n",
    "import json\n",
    "\n",
    "TESTS_PATH = \"../tests/designs/handcrafted\"\n",
    "# TESTS_PATH = \"../tests/designs/systolic\"\n",
    "\n",
    "\n",
    "netlist = emap.NetlistDB(\"./emap/schema.sql\")\n",
    "with open(f\"{TESTS_PATH}/dot_product.json\", \"r\") as f:\n",
    "    netlist.build_from_json(json.load(f)[\"modules\"][\"top\"])\n",
    "\n",
    "with open(\"dot_product.json\", \"w\") as f:\n",
    "    json.dump(netlist.dump_tables(), f, indent=2)\n",
    "\n",
    "rewrites.rewrite_comm(netlist, [\"$adds\", \"$addu\", \"$subs\", \"$subu\", \"$muls\", \"$mulu\"])\n",
    "rewrites.rewrite_assoc_to_right(netlist, [\"$adds\", \"$addu\", \"$subs\", \"$subu\", \"$muls\", \"$mulu\"])\n",
    "\n",
    "with open(\"dot_product_out.json\", \"w\") as f:\n",
    "    json.dump(netlist.dump_tables(), f, indent=2)\n",
    "# with open(f\"{TESTS_PATH}/systolic.json\", \"r\") as f:\n",
    "#     netlist.build_from_json(json.load(f)[\"modules\"][\"systolic\"])\n",
    "\n",
    "# with open(\"systolic.json\", \"w\") as f:\n",
    "#     json.dump(netlist.dump_tables(), f, indent=2)"
   ]
  }
 ],
 "metadata": {
  "kernelspec": {
   "display_name": "Python 3",
   "language": "python",
   "name": "python3"
  },
  "language_info": {
   "codemirror_mode": {
    "name": "ipython",
    "version": 3
   },
   "file_extension": ".py",
   "mimetype": "text/x-python",
   "name": "python",
   "nbconvert_exporter": "python",
   "pygments_lexer": "ipython3",
   "version": "3.10.12"
  }
 },
 "nbformat": 4,
 "nbformat_minor": 5
}
