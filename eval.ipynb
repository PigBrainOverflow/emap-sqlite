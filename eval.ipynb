{
 "cells": [
  {
   "cell_type": "code",
   "execution_count": null,
   "id": "95c91fc0",
   "metadata": {},
   "outputs": [],
   "source": [
    "import emap\n",
    "import emap.rewrites as rewrites\n",
    "import json\n",
    "\n",
    "TESTS_PATH = \"../tests/designs/handcrafted\"\n",
    "# TESTS_PATH = \"../tests/designs/systolic\"\n",
    "\n",
    "\n",
    "netlist = emap.NetlistDB(\"emap/schema.sql\")\n",
    "with open(f\"{TESTS_PATH}/dot_product.json\", \"r\") as f:\n",
    "    netlist.build_from_json(json.load(f)[\"modules\"][\"top\"])\n",
    "\n",
    "with open(\"dot_product.json\", \"w\") as f:\n",
    "    json.dump(netlist.dump_tables(), f, indent=2)\n",
    "\n",
    "# print(netlist.rebuild())\n",
    "matches = rewrites.ematch_comm(netlist, [\"$adds\", \"$addu\", \"$subs\", \"$subu\", \"$muls\", \"$mulu\"])\n",
    "rewrites.apply_comm(netlist, matches)\n",
    "# rewrites.rewrite_assoc_to_right(netlist, [\"$adds\", \"$addu\", \"$subs\", \"$subu\", \"$muls\", \"$mulu\"])\n",
    "\n",
    "with open(\"dot_product_out.json\", \"w\") as f:\n",
    "    json.dump(netlist.dump_tables(), f, indent=2)\n",
    "# with open(f\"{TESTS_PATH}/systolic.json\", \"r\") as f:\n",
    "#     netlist.build_from_json(json.load(f)[\"modules\"][\"systolic\"])\n",
    "\n",
    "# with open(\"systolic.json\", \"w\") as f:\n",
    "#     json.dump(netlist.dump_tables(), f, indent=2)"
   ]
  },
  {
   "cell_type": "code",
   "execution_count": null,
   "id": "33f8cd64",
   "metadata": {},
   "outputs": [],
   "source": [
    "import emap\n",
    "import emap.rewrites as rewrites\n",
    "import json\n",
    "\n",
    "\n",
    "TESTS_PATH = \"../tests/designs/systolic\"\n",
    "netlist = emap.NetlistDB(\"emap/schema.sql\")\n",
    "with open(f\"{TESTS_PATH}/systolic.json\", \"r\") as f:\n",
    "    netlist.build_from_json(json.load(f)[\"modules\"][\"systolic\"])\n",
    "\n",
    "with open(\"systolic.json\", \"w\") as f:\n",
    "    json.dump(netlist.dump_tables(), f, indent=2)\n",
    "\n",
    "while netlist.rebuild_once():\n",
    "    print(\"Rebuilt once\")\n",
    "\n",
    "with open(\"systolic_out.json\", \"w\") as f:\n",
    "    json.dump(netlist.dump_tables(), f, indent=2)"
   ]
  },
  {
   "cell_type": "code",
   "execution_count": null,
   "id": "cf13f968",
   "metadata": {},
   "outputs": [],
   "source": [
    "!bash build_emapcc.sh"
   ]
  },
  {
   "cell_type": "code",
   "execution_count": null,
   "id": "bf239d9b",
   "metadata": {},
   "outputs": [],
   "source": [
    "!rm *.db"
   ]
  },
  {
   "cell_type": "code",
   "execution_count": 1,
   "id": "79b9f887",
   "metadata": {},
   "outputs": [
    {
     "name": "stdout",
     "output_type": "stream",
     "text": [
      "Found 23049 cells\n",
      "Processing cell 0/23049: $add$systolic.v:124$10016\n",
      "Processing cell 1000/23049: $add$systolic.v:124$9638\n",
      "Processing cell 2000/23049: $mul$systolic.v:123$17593\n",
      "Processing cell 3000/23049: $procdff$72189\n",
      "Processing cell 4000/23049: $procdff$73190\n",
      "Processing cell 5000/23049: $procdff$74190\n",
      "Processing cell 6000/23049: $procmux$20592\n",
      "Processing cell 7000/23049: $procmux$23592\n",
      "Processing cell 8000/23049: $procmux$26592\n",
      "Processing cell 9000/23049: $procmux$29592\n",
      "Processing cell 10000/23049: $procmux$32592\n",
      "Processing cell 11000/23049: $procmux$35592\n",
      "Processing cell 12000/23049: $procmux$38592\n",
      "Processing cell 13000/23049: $procmux$41592\n",
      "Processing cell 14000/23049: $procmux$44592\n",
      "Processing cell 15000/23049: $procmux$47592\n",
      "Processing cell 16000/23049: $procmux$50592\n",
      "Processing cell 17000/23049: $procmux$53596\n",
      "Processing cell 18000/23049: $procmux$56600\n",
      "Processing cell 19000/23049: $procmux$59612\n",
      "Processing cell 20000/23049: $procmux$62612\n",
      "Processing cell 21000/23049: $procmux$65612\n",
      "Processing cell 22000/23049: $procmux$68612\n",
      "Processing cell 23000/23049: $procmux$71612\n",
      "Built netlist in 105.90 seconds\n"
     ]
    }
   ],
   "source": [
    "import emap\n",
    "import emap.rewrites as rewrites\n",
    "import json\n",
    "\n",
    "TESTS_PATH = \"../tests/designs/systolic\"\n",
    "netlist = emap.NetlistDB(\"emap/schema.sql\", \"file:netlist?mode=memory&cache=shared\")\n",
    "import time\n",
    "start = time.time()\n",
    "with open(f\"{TESTS_PATH}/systolic.json\", \"r\") as f:\n",
    "    netlist.build_from_json(json.load(f)[\"modules\"][\"systolic\"])\n",
    "print(f\"Built netlist in {time.time() - start:.2f} seconds\")\n",
    "\n",
    "with open(\"systolic.json\", \"w\") as f:\n",
    "    json.dump(netlist.dump_tables(), f, indent=2)\n",
    "\n",
    "# while netlist.rebuild_once():\n",
    "#     print(\"Rebuilt once\")\n",
    "\n",
    "# with open(\"systolic_out.json\", \"w\") as f:\n",
    "#     json.dump(netlist.dump_tables(), f, indent=2)"
   ]
  }
 ],
 "metadata": {
  "kernelspec": {
   "display_name": "Python 3",
   "language": "python",
   "name": "python3"
  },
  "language_info": {
   "codemirror_mode": {
    "name": "ipython",
    "version": 3
   },
   "file_extension": ".py",
   "mimetype": "text/x-python",
   "name": "python",
   "nbconvert_exporter": "python",
   "pygments_lexer": "ipython3",
   "version": "3.10.12"
  }
 },
 "nbformat": 4,
 "nbformat_minor": 5
}
